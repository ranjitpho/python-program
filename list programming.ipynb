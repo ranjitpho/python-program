{
 "cells": [
  {
   "cell_type": "code",
   "execution_count": null,
   "id": "ee900359",
   "metadata": {},
   "outputs": [],
   "source": [
    "#Given a list, write a Python program to swap first and last element of the list\n",
    "~~~Examples: \n",
    "\n",
    "Input : [12, 35, 9, 56, 24]\n",
    "Output : [24, 35, 9, 56, 12]\n",
    "\n",
    "Input : [1, 2, 3,98,90,67]\n",
    "Output :  [67, 2, 3,98,90,1]\n",
    "    ~~~~"
   ]
  },
  {
   "cell_type": "code",
   "execution_count": 20,
   "id": "1cb85764",
   "metadata": {},
   "outputs": [
    {
     "name": "stdout",
     "output_type": "stream",
     "text": [
      "[67, 2, 3, 98, 90, 1]\n"
     ]
    }
   ],
   "source": [
    "def swap_first_last(inputlist):\n",
    "    #size=len(inputlist)\n",
    "    #temp=inputlist[0]\n",
    "    #inputlist[0]=inputlist[-1]\n",
    "    #inputlist[-1]=temp\n",
    "    inputlist[0], inputlist[-1] = inputlist[-1], inputlist[0]\n",
    "    return inputlist\n",
    "\n",
    "inputlist=[1, 2, 3,98,90,67]\n",
    "print(swap_first_last(inputlist))\n",
    "    "
   ]
  },
  {
   "cell_type": "code",
   "execution_count": null,
   "id": "a9c9faf7",
   "metadata": {},
   "outputs": [],
   "source": [
    "#Given a list in Python and provided the positions of the elements, write a program to swap the two elements in the list.\n",
    " \n",
    "\n",
    "~~~Examples:  \n",
    "\n",
    "Input : List = [23, 65, 19, 90], pos1 = 1, pos2 = 3\n",
    "Output : [19, 65, 23, 90]\n",
    "\n",
    "Input : List = [1, 2, 3, 4, 5], pos1 = 2, pos2 = 5\n",
    "Output : [1, 5, 3, 4, 2]\n",
    "    ~~~"
   ]
  },
  {
   "cell_type": "code",
   "execution_count": 23,
   "id": "b85ea776",
   "metadata": {},
   "outputs": [
    {
     "name": "stdout",
     "output_type": "stream",
     "text": [
      "[1, 5, 3, 4, 2]\n"
     ]
    }
   ],
   "source": [
    "def swap_element(inputlist):\n",
    "    inputlist[1],inputlist[-1]= inputlist[-1],inputlist[1]\n",
    "    return(inputlist)\n",
    "\n",
    "inputlist=[1, 2, 3, 4, 5]\n",
    "print(swap_element(inputlist))\n",
    "    "
   ]
  },
  {
   "cell_type": "code",
   "execution_count": null,
   "id": "2c07b0ea",
   "metadata": {},
   "outputs": [],
   "source": []
  },
  {
   "cell_type": "code",
   "execution_count": 41,
   "id": "cbef4a0c",
   "metadata": {},
   "outputs": [
    {
     "name": "stdout",
     "output_type": "stream",
     "text": [
      "yess\n"
     ]
    }
   ],
   "source": [
    "def num_in_list(newlist):\n",
    "    i=6\n",
    "\n",
    "    if i in newlist:\n",
    "        return (\"yess\")\n",
    "    else:\n",
    "        return (\"no\")\n",
    "        \n",
    "newlist =[ 1, 6, 3, 5, 3, 4 ]  \n",
    "print(num_in_list(newlist))            \n",
    "    "
   ]
  },
  {
   "cell_type": "code",
   "execution_count": null,
   "id": "cf2127b6",
   "metadata": {},
   "outputs": [],
   "source": []
  },
  {
   "cell_type": "code",
   "execution_count": null,
   "id": "589b48dd",
   "metadata": {},
   "outputs": [],
   "source": [
    "#reversing the list"
   ]
  },
  {
   "cell_type": "code",
   "execution_count": 47,
   "id": "97d6c503",
   "metadata": {},
   "outputs": [
    {
     "name": "stdout",
     "output_type": "stream",
     "text": [
      "[4, 3, 5, 3, 6, 1]\n"
     ]
    }
   ],
   "source": [
    "def rev_list(newlist):\n",
    "    \n",
    "    revlist=newlist.reverse()\n",
    "    return newlist\n",
    "\n",
    "newlist=[ 1, 6, 3, 5, 3, 4 ] \n",
    "print(rev_list(newlist))"
   ]
  },
  {
   "cell_type": "code",
   "execution_count": 49,
   "id": "843db734",
   "metadata": {},
   "outputs": [
    {
     "data": {
      "text/plain": [
       "[4, 3, 5, 3, 6, 1]"
      ]
     },
     "execution_count": 49,
     "metadata": {},
     "output_type": "execute_result"
    }
   ],
   "source": [
    "copy_list=newlist.copy()\n",
    "copy_list"
   ]
  },
  {
   "cell_type": "code",
   "execution_count": 51,
   "id": "f5afa0de",
   "metadata": {},
   "outputs": [
    {
     "data": {
      "text/plain": [
       "2"
      ]
     },
     "execution_count": 51,
     "metadata": {},
     "output_type": "execute_result"
    }
   ],
   "source": [
    "#count occurance in list\n",
    "newlist=[ 1, 6, 3, 5, 3, 4,4,5,24 ] \n",
    "newlist.count(4)"
   ]
  },
  {
   "cell_type": "code",
   "execution_count": 64,
   "id": "b1ed3ebf",
   "metadata": {},
   "outputs": [
    {
     "name": "stdout",
     "output_type": "stream",
     "text": [
      "10 has occurred 2 times\n"
     ]
    }
   ],
   "source": [
    "def countX(lst, x):\n",
    "    count = 0\n",
    "    for ele in lst:\n",
    "        if (ele == x):\n",
    "            count = count + 1\n",
    "       \n",
    "    return count\n",
    " \n",
    " \n",
    "\n",
    "lst = [8, 6, 8, 10, 8, 20, 10, 8, 8]\n",
    "x = 10\n",
    "print('{} has occurred {} times'.format(x,countX(lst, x)))\n",
    "        "
   ]
  },
  {
   "cell_type": "code",
   "execution_count": 85,
   "id": "4fc0f91c",
   "metadata": {},
   "outputs": [
    {
     "name": "stdout",
     "output_type": "stream",
     "text": [
      "(86, 9.555555555555555)\n"
     ]
    }
   ],
   "source": [
    "#sum and avg in list\n",
    "\n",
    "def sum_list(lst):\n",
    "    count = 0\n",
    "    for i in lst:\n",
    "        count += i\n",
    "        \n",
    "        avg=count/len(lst)\n",
    "  \n",
    "    return count , avg\n",
    " \n",
    "\n",
    "lst = [8, 6, 8, 10, 8, 20, 10, 8, 8]   \n",
    "print(sum_list(lst))"
   ]
  },
  {
   "cell_type": "code",
   "execution_count": 90,
   "id": "80f7773a",
   "metadata": {},
   "outputs": [
    {
     "name": "stdout",
     "output_type": "stream",
     "text": [
      "393216000\n"
     ]
    }
   ],
   "source": [
    "#product of all element in list\n",
    "\n",
    "def pro_list(lst):\n",
    "    product=1\n",
    "    for i in lst:\n",
    "        product *=i\n",
    "    return product\n",
    "lst = [8, 6, 8, 10, 8, 20, 10, 8, 8]   \n",
    "print(pro_list(lst))"
   ]
  },
  {
   "cell_type": "code",
   "execution_count": 91,
   "id": "a118002b",
   "metadata": {},
   "outputs": [
    {
     "name": "stdout",
     "output_type": "stream",
     "text": [
      "10\n"
     ]
    }
   ],
   "source": [
    "#find second largest number from list\n",
    "def sec_largest(lst):\n",
    "    lst.sort()\n",
    "    return lst[-2]\n",
    "lst = [8, 6, 8, 10, 8, 20, 10, 8, 8] \n",
    "print(sec_largest(lst))\n",
    "  \n",
    "        "
   ]
  },
  {
   "cell_type": "code",
   "execution_count": 92,
   "id": "8f219eb2",
   "metadata": {},
   "outputs": [
    {
     "name": "stdout",
     "output_type": "stream",
     "text": [
      "([6, 8, 20, 10, 8], [3, 13, 5, 9])\n"
     ]
    }
   ],
   "source": [
    "#even and odd number from list\n",
    "def even_odd(lst):\n",
    "    even=[]\n",
    "    odd=[]\n",
    "    for i in lst:\n",
    "        if i%2 ==0:\n",
    "            even.append(i)\n",
    "        else:\n",
    "            odd.append(i)\n",
    "    return even , odd    \n",
    "lst = [3, 6, 8, 13, 5, 20, 10, 9, 8] \n",
    "print(even_odd(lst))"
   ]
  },
  {
   "cell_type": "code",
   "execution_count": 94,
   "id": "9fce82ac",
   "metadata": {},
   "outputs": [
    {
     "name": "stdout",
     "output_type": "stream",
     "text": [
      "(5, 4)\n"
     ]
    }
   ],
   "source": [
    "def even_odd_count(lst):\n",
    "    even=[]\n",
    "    odd=[]\n",
    "    for i in lst:\n",
    "        if i%2 ==0:\n",
    "            even.append(i)\n",
    "            even_count=len(even)\n",
    "        else:\n",
    "            odd.append(i)\n",
    "            odd_count=len(odd)\n",
    "    return even_count , odd_count\n",
    "lst = [3, 6, 8, 13, 5, 20, 10, 9, 8] \n",
    "print(even_odd_count(lst))"
   ]
  },
  {
   "cell_type": "code",
   "execution_count": 95,
   "id": "15402e10",
   "metadata": {},
   "outputs": [
    {
     "name": "stdout",
     "output_type": "stream",
     "text": [
      "[('ram', '16', '8'), ('laxman', 'sita'), ('krishna', 'salimr', '45'), ('', '')]\n"
     ]
    }
   ],
   "source": [
    "#remove empty tuple from list\n",
    "\n",
    "def Remove(tuples):\n",
    "    tuples = [t for t in tuples if t]\n",
    "    return tuples\n",
    " \n",
    "\n",
    "tuples = [(), ('ram','16','8'), (), ('laxman', 'sita'),\n",
    "          ('krishna', 'salimr', '45'), ('',''),()]\n",
    "print(Remove(tuples))"
   ]
  },
  {
   "cell_type": "code",
   "execution_count": 109,
   "id": "f80220d1",
   "metadata": {},
   "outputs": [
    {
     "name": "stdout",
     "output_type": "stream",
     "text": [
      "Counter({1: 4, 2: 3, 5: 2, 9: 2, 3: 1, 4: 1, 6: 1, 7: 1, 8: 1})\n"
     ]
    }
   ],
   "source": [
    "#dublicate element in list\n",
    "from collections import Counter\n",
    " \n",
    "l1 = [1,2,1,2,3,4,5,1,1,2,5,6,7,8,9,9]\n",
    "d = Counter(l1)\n",
    "print(d)\n",
    "  \n",
    "\n"
   ]
  },
  {
   "cell_type": "code",
   "execution_count": null,
   "id": "c9dc5f9b",
   "metadata": {},
   "outputs": [],
   "source": []
  }
 ],
 "metadata": {
  "kernelspec": {
   "display_name": "Python 3 (ipykernel)",
   "language": "python",
   "name": "python3"
  },
  "language_info": {
   "codemirror_mode": {
    "name": "ipython",
    "version": 3
   },
   "file_extension": ".py",
   "mimetype": "text/x-python",
   "name": "python",
   "nbconvert_exporter": "python",
   "pygments_lexer": "ipython3",
   "version": "3.9.13"
  }
 },
 "nbformat": 4,
 "nbformat_minor": 5
}
